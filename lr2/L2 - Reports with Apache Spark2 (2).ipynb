{
 "cells": [
  {
   "cell_type": "code",
   "execution_count": 1,
   "id": "7e4f47e7",
   "metadata": {},
   "outputs": [],
   "source": [
    "import pyspark\n",
    "import os\n",
    "\n",
    "from datetime import datetime\n",
    "from pyspark.sql.functions import col\n",
    "from pyspark.sql import SparkSession\n",
    "from pyspark import SparkContext, SparkConf\n",
    "from pyspark.sql.types import StructType, StructField, StringType, DateType"
   ]
  },
  {
   "cell_type": "code",
   "execution_count": 2,
   "id": "a4b7a02e",
   "metadata": {},
   "outputs": [],
   "source": [
    "os.environ['PYSPARK_SUBMIT_ARGS'] = '--packages com.databricks:spark-xml_2.12:0.13.0 pyspark-shell'\n",
    "sc = SparkSession.builder.appName(\"L2\").master(\"yarn\").getOrCreate()"
   ]
  },
  {
   "cell_type": "code",
   "execution_count": 3,
   "id": "e062c065",
   "metadata": {},
   "outputs": [
    {
     "data": {
      "text/html": [
       "\n",
       "            <div>\n",
       "                <p><b>SparkSession - in-memory</b></p>\n",
       "                \n",
       "        <div>\n",
       "            <p><b>SparkContext</b></p>\n",
       "\n",
       "            <p><a href=\"http://n1.maapr.xyz:4047\">Spark UI</a></p>\n",
       "\n",
       "            <dl>\n",
       "              <dt>Version</dt>\n",
       "                <dd><code>v3.1.2.0-eep-800</code></dd>\n",
       "              <dt>Master</dt>\n",
       "                <dd><code>yarn</code></dd>\n",
       "              <dt>AppName</dt>\n",
       "                <dd><code>L2</code></dd>\n",
       "            </dl>\n",
       "        </div>\n",
       "        \n",
       "            </div>\n",
       "        "
      ],
      "text/plain": [
       "<pyspark.sql.session.SparkSession at 0x7fb808ea0ee0>"
      ]
     },
     "execution_count": 3,
     "metadata": {},
     "output_type": "execute_result"
    }
   ],
   "source": [
    "sc"
   ]
  },
  {
   "cell_type": "code",
   "execution_count": null,
   "id": "99c672e7-219a-43e6-b4be-25d8fc99e77a",
   "metadata": {},
   "outputs": [],
   "source": [
    "!hadoop fs -put * /user/vonavic/"
   ]
  },
  {
   "cell_type": "code",
   "execution_count": 109,
   "id": "39627e92-763f-459b-ad91-7c60a9c466bc",
   "metadata": {},
   "outputs": [
    {
     "name": "stdout",
     "output_type": "stream",
     "text": [
      "Found 20 items\n",
      "drwxr-xr-x   - vonavic vonavic          3 2023-12-24 11:59 .sparkStaging\n",
      "-rwxr-xr-x   3 vonavic vonavic      16035 2023-12-23 18:34 Introduction_pyspark.ipynb\n",
      "-rwxr-xr-x   3 vonavic vonavic      18356 2023-12-23 18:17 lr1data\n",
      "drwxr-xr-x   - vonavic vonavic          1 2023-12-24 12:44 path\n",
      "-rwxr-xr-x   3 vonavic vonavic   74162295 2023-12-24 10:54 posts_sample.xml\n",
      "-rwxr-xr-x   3 vonavic vonavic      40269 2023-12-24 11:13 programming-languages.csv\n",
      "drwxr-xr-x   - vonavic vonavic         95 2023-12-24 13:10 report.parquet\n",
      "drwxr-xr-x   - vonavic vonavic         10 2023-12-24 13:12 report_dict_2010\n",
      "drwxr-xr-x   - vonavic vonavic         11 2023-12-24 13:12 report_dict_2011\n",
      "drwxr-xr-x   - vonavic vonavic         10 2023-12-24 13:11 report_dict_2012\n",
      "drwxr-xr-x   - vonavic vonavic         10 2023-12-24 13:11 report_dict_2013\n",
      "drwxr-xr-x   - vonavic vonavic          9 2023-12-24 13:11 report_dict_2014\n",
      "drwxr-xr-x   - vonavic vonavic         11 2023-12-24 13:11 report_dict_2015\n",
      "drwxr-xr-x   - vonavic vonavic         11 2023-12-24 13:12 report_dict_2016\n",
      "drwxr-xr-x   - vonavic vonavic         11 2023-12-24 13:12 report_dict_2017\n",
      "drwxr-xr-x   - vonavic vonavic         11 2023-12-24 13:10 report_dict_2018\n",
      "drwxr-xr-x   - vonavic vonavic         10 2023-12-24 13:11 report_dict_2019\n",
      "-rwxr-xr-x   3 vonavic vonavic       5647 2023-12-23 18:34 station.csv\n",
      "-rwxr-xr-x   3 vonavic vonavic   80208848 2023-12-23 18:34 trip.csv\n",
      "-rwxr-xr-x   3 vonavic vonavic    5315699 2023-12-23 18:34 warandsociety.txt\n"
     ]
    }
   ],
   "source": [
    "!hadoop fs -ls"
   ]
  },
  {
   "cell_type": "code",
   "execution_count": 72,
   "id": "9340f4ea",
   "metadata": {},
   "outputs": [],
   "source": [
    "languages_df = sc.read.csv(\"programming-languages.csv\", header=True, inferSchema=True)"
   ]
  },
  {
   "cell_type": "code",
   "execution_count": 73,
   "id": "3e71bbbc-6bf7-4734-9534-dcf8bae5de51",
   "metadata": {},
   "outputs": [
    {
     "data": {
      "text/plain": [
       "[Row(name='<a# .net>', wikipedia_url='https://en.wikipedia.org/wiki/A_Sharp_(.NET)'),\n",
       " Row(name='<a# (axiom)>', wikipedia_url='https://en.wikipedia.org/wiki/A_Sharp_(Axiom)'),\n",
       " Row(name='<a-0 system>', wikipedia_url='https://en.wikipedia.org/wiki/A-0_System'),\n",
       " Row(name='<a+>', wikipedia_url='https://en.wikipedia.org/wiki/A%2B_(programming_language)'),\n",
       " Row(name='<a++>', wikipedia_url='https://en.wikipedia.org/wiki/A%2B%2B'),\n",
       " Row(name='<abap>', wikipedia_url='https://en.wikipedia.org/wiki/ABAP'),\n",
       " Row(name='<abc>', wikipedia_url='https://en.wikipedia.org/wiki/ABC_(programming_language)'),\n",
       " Row(name='<abc algol>', wikipedia_url='https://en.wikipedia.org/wiki/ABC_ALGOL'),\n",
       " Row(name='<abset>', wikipedia_url='https://en.wikipedia.org/wiki/ABSET'),\n",
       " Row(name='<absys>', wikipedia_url='https://en.wikipedia.org/wiki/ABSYS')]"
      ]
     },
     "execution_count": 73,
     "metadata": {},
     "output_type": "execute_result"
    }
   ],
   "source": [
    "from pyspark.sql.functions import lower\n",
    "from pyspark.sql.functions import concat, lit\n",
    "languages_df = languages_df.withColumn(\"name\", concat(lit(\"<\"), lower(col(\"name\")), lit(\">\")))\n",
    "languages_df.take(10)"
   ]
  },
  {
   "cell_type": "code",
   "execution_count": 74,
   "id": "f18cb927-ec03-4a5a-907d-b7510817cd00",
   "metadata": {},
   "outputs": [],
   "source": [
    "posts_schema = StructType([\n",
    "    StructField(\"_Id\", StringType(), True),\n",
    "    StructField(\"_CreationDate\", StringType(), True),\n",
    "    StructField(\"_Tags\", StringType(), True)\n",
    "])\n",
    "\n",
    "posts_df = sc.read.format(\"xml\") \\\n",
    "    .option(\"rowTag\", \"row\") \\\n",
    "    .schema(posts_schema) \\\n",
    "    .load(\"posts_sample.xml\")"
   ]
  },
  {
   "cell_type": "code",
   "execution_count": 75,
   "id": "40cba477-ca1c-4f7d-9728-0077e9b53ba3",
   "metadata": {},
   "outputs": [],
   "source": [
    "# Разбивка Tags на языки программирования\n",
    "posts_with_languages_df = posts_df.join(languages_df, col(\"_Tags\").contains(col(\"name\")))"
   ]
  },
  {
   "cell_type": "code",
   "execution_count": 76,
   "id": "586d65cc-df1d-40ce-ae3a-8c641b0adb6f",
   "metadata": {},
   "outputs": [
    {
     "data": {
      "text/plain": [
       "8204"
      ]
     },
     "execution_count": 76,
     "metadata": {},
     "output_type": "execute_result"
    }
   ],
   "source": [
    "posts_with_languages_df.count()"
   ]
  },
  {
   "cell_type": "code",
   "execution_count": 77,
   "id": "58ea1df9-bb13-4d50-8d96-63c0e7c4d738",
   "metadata": {},
   "outputs": [
    {
     "data": {
      "text/plain": [
       "[Row(_Id='3778222', _CreationDate='2010-09-23T12:13:59.443', _Tags='<java>', name='<java>', wikipedia_url='https://en.wikipedia.org/wiki/Java_(programming_language)'),\n",
       " Row(_Id='3798872', _CreationDate='2010-09-26T17:07:04.840', _Tags='<php><wordpress><memory>', name='<php>', wikipedia_url='https://en.wikipedia.org/wiki/PHP'),\n",
       " Row(_Id='3833655', _CreationDate='2010-09-30T18:27:56.320', _Tags='<ruby><rvm>', name='<ruby>', wikipedia_url='https://en.wikipedia.org/wiki/Ruby_(programming_language)'),\n",
       " Row(_Id='3838866', _CreationDate='2010-10-01T11:52:42.210', _Tags='<c><sizeof>', name='<c>', wikipedia_url='https://en.wikipedia.org/wiki/C_(programming_language)'),\n",
       " Row(_Id='3859099', _CreationDate='2010-10-04T21:05:50.150', _Tags='<php><sql>', name='<php>', wikipedia_url='https://en.wikipedia.org/wiki/PHP'),\n",
       " Row(_Id='3872977', _CreationDate='2010-10-06T13:31:25.900', _Tags='<python><sungridengine><qsub>', name='<python>', wikipedia_url='https://en.wikipedia.org/wiki/Python_(programming_language)'),\n",
       " Row(_Id='3885802', _CreationDate='2010-10-07T20:53:59.650', _Tags='<javascript><jquery><wysiwyg>', name='<javascript>', wikipedia_url='https://en.wikipedia.org/wiki/JavaScript'),\n",
       " Row(_Id='3886770', _CreationDate='2010-10-07T23:56:30.330', _Tags='<applescript><scrape>', name='<applescript>', wikipedia_url='https://en.wikipedia.org/wiki/AppleScript'),\n",
       " Row(_Id='3891676', _CreationDate='2010-10-08T14:44:33.467', _Tags='<php><timer>', name='<php>', wikipedia_url='https://en.wikipedia.org/wiki/PHP'),\n",
       " Row(_Id='3904423', _CreationDate='2010-10-11T07:54:55.923', _Tags='<php><embed>', name='<php>', wikipedia_url='https://en.wikipedia.org/wiki/PHP')]"
      ]
     },
     "execution_count": 77,
     "metadata": {},
     "output_type": "execute_result"
    }
   ],
   "source": [
    "posts_with_languages_df.take(10)"
   ]
  },
  {
   "cell_type": "code",
   "execution_count": 83,
   "id": "e61d2954-d466-4a4e-b2d1-632a524a4781",
   "metadata": {},
   "outputs": [
    {
     "data": {
      "text/plain": [
       "[Row(_Id='3778222', _CreationDate='2010-09-23T12:13:59.443', _Tags='<java>', name='<java>', wikipedia_url='https://en.wikipedia.org/wiki/Java_(programming_language)', Year=2010),\n",
       " Row(_Id='3798872', _CreationDate='2010-09-26T17:07:04.840', _Tags='<php><wordpress><memory>', name='<php>', wikipedia_url='https://en.wikipedia.org/wiki/PHP', Year=2010),\n",
       " Row(_Id='3833655', _CreationDate='2010-09-30T18:27:56.320', _Tags='<ruby><rvm>', name='<ruby>', wikipedia_url='https://en.wikipedia.org/wiki/Ruby_(programming_language)', Year=2010),\n",
       " Row(_Id='3838866', _CreationDate='2010-10-01T11:52:42.210', _Tags='<c><sizeof>', name='<c>', wikipedia_url='https://en.wikipedia.org/wiki/C_(programming_language)', Year=2010),\n",
       " Row(_Id='3859099', _CreationDate='2010-10-04T21:05:50.150', _Tags='<php><sql>', name='<php>', wikipedia_url='https://en.wikipedia.org/wiki/PHP', Year=2010),\n",
       " Row(_Id='3872977', _CreationDate='2010-10-06T13:31:25.900', _Tags='<python><sungridengine><qsub>', name='<python>', wikipedia_url='https://en.wikipedia.org/wiki/Python_(programming_language)', Year=2010),\n",
       " Row(_Id='3885802', _CreationDate='2010-10-07T20:53:59.650', _Tags='<javascript><jquery><wysiwyg>', name='<javascript>', wikipedia_url='https://en.wikipedia.org/wiki/JavaScript', Year=2010),\n",
       " Row(_Id='3886770', _CreationDate='2010-10-07T23:56:30.330', _Tags='<applescript><scrape>', name='<applescript>', wikipedia_url='https://en.wikipedia.org/wiki/AppleScript', Year=2010),\n",
       " Row(_Id='3891676', _CreationDate='2010-10-08T14:44:33.467', _Tags='<php><timer>', name='<php>', wikipedia_url='https://en.wikipedia.org/wiki/PHP', Year=2010),\n",
       " Row(_Id='3904423', _CreationDate='2010-10-11T07:54:55.923', _Tags='<php><embed>', name='<php>', wikipedia_url='https://en.wikipedia.org/wiki/PHP', Year=2010)]"
      ]
     },
     "execution_count": 83,
     "metadata": {},
     "output_type": "execute_result"
    }
   ],
   "source": [
    "from pyspark.sql.functions import to_date, year\n",
    "posts_with_languages_df = posts_with_languages_df.withColumn(\"Year\", year(to_date(\"_CreationDate\", \"yyyy-MM-dd'T'HH:mm:ss.SSS\")))\n",
    "posts_with_languages_df.take(10)"
   ]
  },
  {
   "cell_type": "code",
   "execution_count": 88,
   "id": "ef8f59e5-257a-4a68-98f6-3599e3bc0aa5",
   "metadata": {},
   "outputs": [
    {
     "data": {
      "text/plain": [
       "DataFrame[Year: int, name: string, count: bigint]"
      ]
     },
     "execution_count": 88,
     "metadata": {},
     "output_type": "execute_result"
    }
   ],
   "source": [
    "# Группировка по годам и языкам\n",
    "grouped_df = posts_with_languages_df.groupBy(\"Year\", \"name\").count()\n",
    "grouped_df"
   ]
  },
  {
   "cell_type": "code",
   "execution_count": 103,
   "id": "49d729ba-dad6-407c-afdd-31337db81376",
   "metadata": {},
   "outputs": [],
   "source": [
    "from pyspark.sql.window import Window\n",
    "from pyspark.sql import functions as F\n",
    "\n",
    "window_spec = Window.partitionBy(\"Year\").orderBy(col(\"count\").desc())\n",
    "\n",
    "ranked_df = grouped_df.withColumn(\"rank\", F.rank().over(window_spec))"
   ]
  },
  {
   "cell_type": "code",
   "execution_count": 104,
   "id": "cbb75b75-fdba-4625-8e7d-1344bb2e7249",
   "metadata": {},
   "outputs": [
    {
     "data": {
      "text/plain": [
       "[Row(Year=2019, name='<python>', count=166, rank=1),\n",
       " Row(Year=2019, name='<javascript>', count=135, rank=2),\n",
       " Row(Year=2019, name='<java>', count=95, rank=3),\n",
       " Row(Year=2019, name='<php>', count=65, rank=4),\n",
       " Row(Year=2019, name='<r>', count=37, rank=5),\n",
       " Row(Year=2019, name='<typescript>', count=17, rank=6),\n",
       " Row(Year=2019, name='<c>', count=14, rank=7),\n",
       " Row(Year=2019, name='<bash>', count=11, rank=8),\n",
       " Row(Year=2019, name='<matlab>', count=9, rank=9),\n",
       " Row(Year=2019, name='<dart>', count=9, rank=9),\n",
       " Row(Year=2019, name='<go>', count=9, rank=9),\n",
       " Row(Year=2018, name='<python>', count=220, rank=1),\n",
       " Row(Year=2018, name='<javascript>', count=198, rank=2),\n",
       " Row(Year=2018, name='<java>', count=146, rank=3),\n",
       " Row(Year=2018, name='<php>', count=111, rank=4),\n",
       " Row(Year=2018, name='<r>', count=66, rank=5),\n",
       " Row(Year=2018, name='<typescript>', count=27, rank=6),\n",
       " Row(Year=2018, name='<c>', count=24, rank=7),\n",
       " Row(Year=2018, name='<scala>', count=23, rank=8),\n",
       " Row(Year=2018, name='<powershell>', count=13, rank=9)]"
      ]
     },
     "execution_count": 104,
     "metadata": {},
     "output_type": "execute_result"
    }
   ],
   "source": [
    "top10_df = ranked_df.filter(col(\"rank\") <= 10).orderBy(col(\"Year\").desc(), col(\"rank\")).filter(col(\"Year\") >= 2010)\n",
    "top10_df.take(20)"
   ]
  },
  {
   "cell_type": "code",
   "execution_count": 105,
   "id": "18ae90de-ee7e-4a39-80dd-d8721995012f",
   "metadata": {},
   "outputs": [
    {
     "name": "stdout",
     "output_type": "stream",
     "text": [
      "Year: 2018\n",
      "+----+------------+-----+----+\n",
      "|Year|        name|count|rank|\n",
      "+----+------------+-----+----+\n",
      "|2018|    <python>|  220|   1|\n",
      "|2018|<javascript>|  198|   2|\n",
      "|2018|      <java>|  146|   3|\n",
      "|2018|       <php>|  111|   4|\n",
      "|2018|         <r>|   66|   5|\n",
      "|2018|<typescript>|   27|   6|\n",
      "|2018|         <c>|   24|   7|\n",
      "|2018|     <scala>|   23|   8|\n",
      "|2018|<powershell>|   13|   9|\n",
      "|2018|      <bash>|   12|  10|\n",
      "+----+------------+-----+----+\n",
      "\n",
      "Year: 2015\n",
      "+----+-------------+-----+----+\n",
      "|Year|         name|count|rank|\n",
      "+----+-------------+-----+----+\n",
      "|2015| <javascript>|  277|   1|\n",
      "|2015|       <java>|  209|   2|\n",
      "|2015|        <php>|  167|   3|\n",
      "|2015|     <python>|  121|   4|\n",
      "|2015|          <r>|   43|   5|\n",
      "|2015|          <c>|   38|   6|\n",
      "|2015|<objective-c>|   30|   7|\n",
      "|2015|       <ruby>|   21|   8|\n",
      "|2015|     <matlab>|   16|   9|\n",
      "|2015|      <scala>|   15|  10|\n",
      "+----+-------------+-----+----+\n",
      "\n",
      "Year: 2013\n",
      "+----+-------------+-----+----+\n",
      "|Year|         name|count|rank|\n",
      "+----+-------------+-----+----+\n",
      "|2013| <javascript>|  198|   1|\n",
      "|2013|        <php>|  198|   1|\n",
      "|2013|       <java>|  194|   3|\n",
      "|2013|     <python>|   90|   4|\n",
      "|2013|<objective-c>|   40|   5|\n",
      "|2013|          <c>|   36|   6|\n",
      "|2013|       <ruby>|   32|   7|\n",
      "|2013|          <r>|   26|   8|\n",
      "|2013|       <bash>|   12|   9|\n",
      "|2013|      <scala>|   11|  10|\n",
      "+----+-------------+-----+----+\n",
      "\n",
      "Year: 2014\n",
      "+----+-------------+-----+----+\n",
      "|Year|         name|count|rank|\n",
      "+----+-------------+-----+----+\n",
      "|2014| <javascript>|  239|   1|\n",
      "|2014|       <java>|  228|   2|\n",
      "|2014|        <php>|  167|   3|\n",
      "|2014|     <python>|  109|   4|\n",
      "|2014|          <c>|   52|   5|\n",
      "|2014|<objective-c>|   52|   5|\n",
      "|2014|          <r>|   28|   7|\n",
      "|2014|       <ruby>|   24|   8|\n",
      "|2014|       <bash>|   17|   9|\n",
      "|2014|     <matlab>|   17|   9|\n",
      "+----+-------------+-----+----+\n",
      "\n",
      "Year: 2019\n",
      "+----+------------+-----+----+\n",
      "|Year|        name|count|rank|\n",
      "+----+------------+-----+----+\n",
      "|2019|    <python>|  166|   1|\n",
      "|2019|<javascript>|  135|   2|\n",
      "|2019|      <java>|   95|   3|\n",
      "|2019|       <php>|   65|   4|\n",
      "|2019|         <r>|   37|   5|\n",
      "|2019|<typescript>|   17|   6|\n",
      "|2019|         <c>|   14|   7|\n",
      "|2019|      <bash>|   11|   8|\n",
      "|2019|        <go>|    9|   9|\n",
      "|2019|      <dart>|    9|   9|\n",
      "|2019|    <matlab>|    9|   9|\n",
      "+----+------------+-----+----+\n",
      "\n",
      "Year: 2012\n",
      "+----+-------------+-----+----+\n",
      "|Year|         name|count|rank|\n",
      "+----+-------------+-----+----+\n",
      "|2012|        <php>|  154|   1|\n",
      "|2012| <javascript>|  132|   2|\n",
      "|2012|       <java>|  124|   3|\n",
      "|2012|     <python>|   69|   4|\n",
      "|2012|<objective-c>|   45|   5|\n",
      "|2012|       <ruby>|   27|   6|\n",
      "|2012|          <c>|   27|   6|\n",
      "|2012|       <bash>|   10|   8|\n",
      "|2012|          <r>|    9|   9|\n",
      "|2012|      <xpath>|    6|  10|\n",
      "|2012|        <lua>|    6|  10|\n",
      "|2012|     <matlab>|    6|  10|\n",
      "|2012|      <scala>|    6|  10|\n",
      "+----+-------------+-----+----+\n",
      "\n",
      "Year: 2016\n",
      "+----+------------+-----+----+\n",
      "|Year|        name|count|rank|\n",
      "+----+------------+-----+----+\n",
      "|2016|<javascript>|  278|   1|\n",
      "|2016|      <java>|  184|   2|\n",
      "|2016|       <php>|  155|   3|\n",
      "|2016|    <python>|  146|   4|\n",
      "|2016|         <r>|   52|   5|\n",
      "|2016|         <c>|   32|   6|\n",
      "|2016|      <ruby>|   24|   7|\n",
      "|2016|      <bash>|   18|   8|\n",
      "|2016|     <scala>|   16|   9|\n",
      "|2016|    <matlab>|   15|  10|\n",
      "+----+------------+-----+----+\n",
      "\n",
      "Year: 2010\n",
      "+----+-------------+-----+----+\n",
      "|Year|         name|count|rank|\n",
      "+----+-------------+-----+----+\n",
      "|2010|       <java>|   52|   1|\n",
      "|2010|        <php>|   46|   2|\n",
      "|2010| <javascript>|   44|   3|\n",
      "|2010|     <python>|   26|   4|\n",
      "|2010|<objective-c>|   23|   5|\n",
      "|2010|          <c>|   20|   6|\n",
      "|2010|       <ruby>|   12|   7|\n",
      "|2010|     <delphi>|    8|   8|\n",
      "|2010|       <bash>|    3|   9|\n",
      "|2010|          <r>|    3|   9|\n",
      "|2010|       <perl>|    3|   9|\n",
      "|2010|<applescript>|    3|   9|\n",
      "+----+-------------+-----+----+\n",
      "\n",
      "Year: 2011\n",
      "+----+-------------+-----+----+\n",
      "|Year|         name|count|rank|\n",
      "+----+-------------+-----+----+\n",
      "|2011|        <php>|  102|   1|\n",
      "|2011|       <java>|   93|   2|\n",
      "|2011| <javascript>|   83|   3|\n",
      "|2011|     <python>|   37|   4|\n",
      "|2011|<objective-c>|   34|   5|\n",
      "|2011|          <c>|   24|   6|\n",
      "|2011|       <ruby>|   20|   7|\n",
      "|2011|       <perl>|    9|   8|\n",
      "|2011|     <delphi>|    8|   9|\n",
      "|2011|       <bash>|    7|  10|\n",
      "+----+-------------+-----+----+\n",
      "\n",
      "Year: 2017\n",
      "+----+-------------+-----+----+\n",
      "|Year|         name|count|rank|\n",
      "+----+-------------+-----+----+\n",
      "|2017| <javascript>|  246|   1|\n",
      "|2017|       <java>|  204|   2|\n",
      "|2017|     <python>|  193|   3|\n",
      "|2017|        <php>|  138|   4|\n",
      "|2017|          <r>|   56|   5|\n",
      "|2017|          <c>|   25|   6|\n",
      "|2017| <typescript>|   20|   7|\n",
      "|2017|<objective-c>|   19|   8|\n",
      "|2017|       <ruby>|   17|   9|\n",
      "|2017| <powershell>|   14|  10|\n",
      "|2017|       <bash>|   14|  10|\n",
      "+----+-------------+-----+----+\n",
      "\n"
     ]
    }
   ],
   "source": [
    "tables_dict = {}\n",
    "for year in top10_df.select(\"Year\").distinct().rdd.map(lambda x: x.Year).collect():\n",
    "    tables_dict[year] = top10_df.filter(col(\"Year\") == year)\n",
    "\n",
    "# Вывод примера для первых 2 годов\n",
    "for year, table in tables_dict.items():\n",
    "    print(f\"Year: {year}\")\n",
    "    table.show()"
   ]
  },
  {
   "cell_type": "code",
   "execution_count": 108,
   "id": "26e3ba93-f9b1-46b9-bcea-ed39ce334396",
   "metadata": {},
   "outputs": [],
   "source": [
    "# Сохранение отчета в формате Parquet\n",
    "top10_df.write.parquet(\"report.parquet\", mode=\"overwrite\")\n",
    "for year, table in tables_dict.items():\n",
    "    table.write.format(\"parquet\").save(f\"report_dict_{year}\")"
   ]
  }
 ],
 "metadata": {
  "kernelspec": {
   "display_name": "Python 3",
   "language": "python",
   "name": "python3"
  },
  "language_info": {
   "codemirror_mode": {
    "name": "ipython",
    "version": 3
   },
   "file_extension": ".py",
   "mimetype": "text/x-python",
   "name": "python",
   "nbconvert_exporter": "python",
   "pygments_lexer": "ipython3",
   "version": "3.9.5"
  }
 },
 "nbformat": 4,
 "nbformat_minor": 5
}
